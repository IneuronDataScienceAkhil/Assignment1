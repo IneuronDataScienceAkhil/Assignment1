{
 "cells": [
  {
   "cell_type": "markdown",
   "id": "0dca286b",
   "metadata": {},
   "source": [
    "1. In the below elements which of them are values or an expression? eg:- values can be\n",
    "integer or string and expressions will be mathematical operators.\n",
    "\n",
    "Ans:-  Integer Or String-  -87.8,\"hello\",6\n",
    "       Expressions- +,/,-,*"
   ]
  },
  {
   "cell_type": "markdown",
   "id": "f73605d6",
   "metadata": {},
   "source": [
    "2. What is the difference between string and variable?\n",
    "Ans:- String:- String Are the Collection of Alphabet that can be written in single or Double inverted Comma\n",
    "      variable:-It is a Container in which we can Store the Value of String Or any other Integer .\n",
    "                Each Variable have the unique id in the Memory/Hard Disk"
   ]
  },
  {
   "cell_type": "markdown",
   "id": "4ffb1746",
   "metadata": {},
   "source": [
    "3. Describe three different data types.\n",
    "Ans- Three Data types in python are:-\n",
    "        1. int- This is one of the most important data types in the python \n",
    "            It can store Only the integer value in the range(0-9) only .i,e-65,87\n",
    "        2. str- This is also one of the most important data types \n",
    "            It can Store Only the string value containing the alpbhabet in the single \n",
    "            or double inverted Comma. i,e-\"Hello World\"\n",
    "        3 Bool- This is the boolean data types which can represent only two value ,True Or False \n",
    "                True can be treated as 1 and False can be treated as 0"
   ]
  },
  {
   "cell_type": "markdown",
   "id": "c1fe1feb",
   "metadata": {},
   "source": [
    "4. What is an expression made up of? What do all expressions do?\n",
    "Ans-An expression is a construct made up of variables, operators, and method invocations,\n",
    "    which are constructed according to the syntax of the language, that evaluates to a single value.\n",
    "    \n",
    "    All Expression can be used for the performing some mathmatical operation like some addition,multiplication \n",
    "    division and subtraction and many other mathmatical operatio"
   ]
  },
  {
   "cell_type": "markdown",
   "id": "41109ca7",
   "metadata": {},
   "source": [
    "5. This assignment statements, like spam = 10. What is the difference between an\n",
    "    expression and a statement?\n",
    "Ans:-The differnce between expression and a statement are expression is used to express the value from one \n",
    "    varaible to another but statement is used to give the some meaningful sense to the statement "
   ]
  },
  {
   "cell_type": "markdown",
   "id": "7274113a",
   "metadata": {},
   "source": [
    "6. After running the following code, what does the variable bacon contain?\n",
    "    bacon = 22\n",
    "    bacon + 1\n",
    "Ans:The value of bacon remains the same because we are not storing the increment value \n",
    "    bacon=22"
   ]
  },
  {
   "cell_type": "markdown",
   "id": "d55d69eb",
   "metadata": {},
   "source": [
    "7. What should the values of the following two terms be?\n",
    "   'spam'+'spamspam'\n",
    "   'spam'*3\n",
    " Ans:-'spam'+'spamspam'='spamspamspam'\n",
    "      'spam'*3='spamspamspam'"
   ]
  },
  {
   "cell_type": "markdown",
   "id": "2f3b8361",
   "metadata": {},
   "source": [
    "8. Why is eggs a valid variable name while 100 is invalid?\n",
    "Ans:- The variable name should be start with alphabet but it never should be start with the integer \n",
    "      value that's why eggs is vaid variable name while 100 is not valid."
   ]
  },
  {
   "cell_type": "markdown",
   "id": "9b4b8ecf",
   "metadata": {},
   "source": [
    "9. What three functions can be used to get the integer, floating-point number, or string\n",
    "version of a value?\n",
    "Ans:-The int(),float() and str() function can be used to get a value .\n"
   ]
  },
  {
   "cell_type": "markdown",
   "id": "d5dce05e",
   "metadata": {},
   "source": [
    "10. Why does this expression cause an error? How can you fix it?\n",
    "    'I have eaten' + 99 + 'burritos'.\n",
    "Ans:- We are not going to concate the string to the integer .\n",
    "    We can only concate Only when we change integer to string by using single or double inverted comma\n",
    "    \n",
    "    'I Have eaten 99 buritos'\n",
    "    'I have eaten'+'99'+' buritos'\n",
    "    "
   ]
  },
  {
   "cell_type": "code",
   "execution_count": null,
   "id": "2a16079e",
   "metadata": {},
   "outputs": [],
   "source": []
  }
 ],
 "metadata": {
  "kernelspec": {
   "display_name": "Python 3 (ipykernel)",
   "language": "python",
   "name": "python3"
  },
  "language_info": {
   "codemirror_mode": {
    "name": "ipython",
    "version": 3
   },
   "file_extension": ".py",
   "mimetype": "text/x-python",
   "name": "python",
   "nbconvert_exporter": "python",
   "pygments_lexer": "ipython3",
   "version": "3.9.7"
  }
 },
 "nbformat": 4,
 "nbformat_minor": 5
}
